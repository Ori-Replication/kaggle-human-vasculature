{
 "cells": [
  {
   "cell_type": "markdown",
   "id": "1c07db64",
   "metadata": {
    "papermill": {
     "duration": 0.004533,
     "end_time": "2023-12-09T07:00:47.387865",
     "exception": false,
     "start_time": "2023-12-09T07:00:47.383332",
     "status": "completed"
    },
    "tags": []
   },
   "source": [
    "# Import"
   ]
  },
  {
   "cell_type": "code",
   "execution_count": 2,
   "id": "5b4f8147",
   "metadata": {
    "_cell_guid": "b1076dfc-b9ad-4769-8c92-a6c4dae69d19",
    "_kg_hide-input": true,
    "_kg_hide-output": true,
    "_uuid": "8f2839f25d086af736a60e9eeb907d3b93b6e0e5",
    "execution": {
     "iopub.execute_input": "2023-12-09T07:00:47.397251Z",
     "iopub.status.busy": "2023-12-09T07:00:47.396841Z",
     "iopub.status.idle": "2023-12-09T07:01:37.031803Z",
     "shell.execute_reply": "2023-12-09T07:01:37.030957Z"
    },
    "papermill": {
     "duration": 49.642277,
     "end_time": "2023-12-09T07:01:37.034090",
     "exception": false,
     "start_time": "2023-12-09T07:00:47.391813",
     "status": "completed"
    },
    "tags": []
   },
   "outputs": [],
   "source": [
    "!mkdir -p .cache/torch/hub/checkpoints/\n",
    "!cp kaggle/input/se-net-pretrained-imagenet-weights/* .cache/torch/hub/checkpoints/\n",
    "import torch as tc \n",
    "import torch.nn as nn  \n",
    "import numpy as np\n",
    "from tqdm import tqdm\n"
   ]
  },
  {
   "cell_type": "markdown",
   "id": "31b00271",
   "metadata": {
    "papermill": {
     "duration": 0.005776,
     "end_time": "2023-12-09T07:01:37.046057",
     "exception": false,
     "start_time": "2023-12-09T07:01:37.040281",
     "status": "completed"
    },
    "tags": []
   },
   "source": [
    "# config"
   ]
  },
  {
   "cell_type": "code",
   "execution_count": 6,
   "id": "f46a80ee",
   "metadata": {},
   "outputs": [
    {
     "name": "stdout",
     "output_type": "stream",
     "text": [
      "Looking in links: /kaggle/input/pip-download-for-segmentation-models-pytorch\n",
      "Requirement already satisfied: segmentation-models-pytorch in /public/sist/home/hongmt2022/k-bv/lib/python3.10/site-packages (0.3.3)\n",
      "Requirement already satisfied: torchvision>=0.5.0 in /public/sist/home/hongmt2022/k-bv/lib/python3.10/site-packages (from segmentation-models-pytorch) (0.15.2)\n",
      "Requirement already satisfied: pretrainedmodels==0.7.4 in /public/sist/home/hongmt2022/k-bv/lib/python3.10/site-packages (from segmentation-models-pytorch) (0.7.4)\n",
      "Requirement already satisfied: efficientnet-pytorch==0.7.1 in /public/sist/home/hongmt2022/k-bv/lib/python3.10/site-packages (from segmentation-models-pytorch) (0.7.1)\n",
      "Requirement already satisfied: timm==0.9.2 in /public/sist/home/hongmt2022/k-bv/lib/python3.10/site-packages (from segmentation-models-pytorch) (0.9.2)\n",
      "Requirement already satisfied: tqdm in /public/sist/home/hongmt2022/k-bv/lib/python3.10/site-packages (from segmentation-models-pytorch) (4.66.1)\n",
      "Requirement already satisfied: pillow in /public/sist/home/hongmt2022/k-bv/lib/python3.10/site-packages (from segmentation-models-pytorch) (10.1.0)\n",
      "Requirement already satisfied: torch in /public/sist/home/hongmt2022/k-bv/lib/python3.10/site-packages (from efficientnet-pytorch==0.7.1->segmentation-models-pytorch) (2.0.1)\n",
      "Requirement already satisfied: munch in /public/sist/home/hongmt2022/k-bv/lib/python3.10/site-packages (from pretrainedmodels==0.7.4->segmentation-models-pytorch) (4.0.0)\n",
      "Requirement already satisfied: pyyaml in /public/sist/home/hongmt2022/k-bv/lib/python3.10/site-packages (from timm==0.9.2->segmentation-models-pytorch) (6.0.1)\n",
      "Requirement already satisfied: huggingface-hub in /public/sist/home/hongmt2022/k-bv/lib/python3.10/site-packages (from timm==0.9.2->segmentation-models-pytorch) (0.19.4)\n",
      "Requirement already satisfied: safetensors in /public/sist/home/hongmt2022/k-bv/lib/python3.10/site-packages (from timm==0.9.2->segmentation-models-pytorch) (0.4.1)\n",
      "Requirement already satisfied: numpy in /public/sist/home/hongmt2022/k-bv/lib/python3.10/site-packages (from torchvision>=0.5.0->segmentation-models-pytorch) (1.26.2)\n",
      "Requirement already satisfied: requests in /public/sist/home/hongmt2022/k-bv/lib/python3.10/site-packages (from torchvision>=0.5.0->segmentation-models-pytorch) (2.31.0)\n",
      "Requirement already satisfied: filelock in /public/sist/home/hongmt2022/k-bv/lib/python3.10/site-packages (from torch->efficientnet-pytorch==0.7.1->segmentation-models-pytorch) (3.13.1)\n",
      "Requirement already satisfied: typing-extensions in /public/sist/home/hongmt2022/k-bv/lib/python3.10/site-packages (from torch->efficientnet-pytorch==0.7.1->segmentation-models-pytorch) (4.9.0)\n",
      "Requirement already satisfied: sympy in /public/sist/home/hongmt2022/k-bv/lib/python3.10/site-packages (from torch->efficientnet-pytorch==0.7.1->segmentation-models-pytorch) (1.12)\n",
      "Requirement already satisfied: networkx in /public/sist/home/hongmt2022/k-bv/lib/python3.10/site-packages (from torch->efficientnet-pytorch==0.7.1->segmentation-models-pytorch) (3.2.1)\n",
      "Requirement already satisfied: jinja2 in /public/sist/home/hongmt2022/k-bv/lib/python3.10/site-packages (from torch->efficientnet-pytorch==0.7.1->segmentation-models-pytorch) (3.1.2)\n",
      "Requirement already satisfied: nvidia-cuda-nvrtc-cu11==11.7.99 in /public/sist/home/hongmt2022/k-bv/lib/python3.10/site-packages (from torch->efficientnet-pytorch==0.7.1->segmentation-models-pytorch) (11.7.99)\n",
      "Requirement already satisfied: nvidia-cuda-runtime-cu11==11.7.99 in /public/sist/home/hongmt2022/k-bv/lib/python3.10/site-packages (from torch->efficientnet-pytorch==0.7.1->segmentation-models-pytorch) (11.7.99)\n",
      "Requirement already satisfied: nvidia-cuda-cupti-cu11==11.7.101 in /public/sist/home/hongmt2022/k-bv/lib/python3.10/site-packages (from torch->efficientnet-pytorch==0.7.1->segmentation-models-pytorch) (11.7.101)\n",
      "Requirement already satisfied: nvidia-cudnn-cu11==8.5.0.96 in /public/sist/home/hongmt2022/k-bv/lib/python3.10/site-packages (from torch->efficientnet-pytorch==0.7.1->segmentation-models-pytorch) (8.5.0.96)\n",
      "Requirement already satisfied: nvidia-cublas-cu11==11.10.3.66 in /public/sist/home/hongmt2022/k-bv/lib/python3.10/site-packages (from torch->efficientnet-pytorch==0.7.1->segmentation-models-pytorch) (11.10.3.66)\n",
      "Requirement already satisfied: nvidia-cufft-cu11==10.9.0.58 in /public/sist/home/hongmt2022/k-bv/lib/python3.10/site-packages (from torch->efficientnet-pytorch==0.7.1->segmentation-models-pytorch) (10.9.0.58)\n",
      "Requirement already satisfied: nvidia-curand-cu11==10.2.10.91 in /public/sist/home/hongmt2022/k-bv/lib/python3.10/site-packages (from torch->efficientnet-pytorch==0.7.1->segmentation-models-pytorch) (10.2.10.91)\n",
      "Requirement already satisfied: nvidia-cusolver-cu11==11.4.0.1 in /public/sist/home/hongmt2022/k-bv/lib/python3.10/site-packages (from torch->efficientnet-pytorch==0.7.1->segmentation-models-pytorch) (11.4.0.1)\n",
      "Requirement already satisfied: nvidia-cusparse-cu11==11.7.4.91 in /public/sist/home/hongmt2022/k-bv/lib/python3.10/site-packages (from torch->efficientnet-pytorch==0.7.1->segmentation-models-pytorch) (11.7.4.91)\n",
      "Requirement already satisfied: nvidia-nccl-cu11==2.14.3 in /public/sist/home/hongmt2022/k-bv/lib/python3.10/site-packages (from torch->efficientnet-pytorch==0.7.1->segmentation-models-pytorch) (2.14.3)\n",
      "Requirement already satisfied: nvidia-nvtx-cu11==11.7.91 in /public/sist/home/hongmt2022/k-bv/lib/python3.10/site-packages (from torch->efficientnet-pytorch==0.7.1->segmentation-models-pytorch) (11.7.91)\n",
      "Requirement already satisfied: triton==2.0.0 in /public/sist/home/hongmt2022/k-bv/lib/python3.10/site-packages (from torch->efficientnet-pytorch==0.7.1->segmentation-models-pytorch) (2.0.0)\n",
      "Requirement already satisfied: setuptools in /public/sist/home/hongmt2022/k-bv/lib/python3.10/site-packages (from nvidia-cublas-cu11==11.10.3.66->torch->efficientnet-pytorch==0.7.1->segmentation-models-pytorch) (68.0.0)\n",
      "Requirement already satisfied: wheel in /public/sist/home/hongmt2022/k-bv/lib/python3.10/site-packages (from nvidia-cublas-cu11==11.10.3.66->torch->efficientnet-pytorch==0.7.1->segmentation-models-pytorch) (0.41.2)\n",
      "Requirement already satisfied: cmake in /public/sist/home/hongmt2022/k-bv/lib/python3.10/site-packages (from triton==2.0.0->torch->efficientnet-pytorch==0.7.1->segmentation-models-pytorch) (3.27.9)\n",
      "Requirement already satisfied: lit in /public/sist/home/hongmt2022/k-bv/lib/python3.10/site-packages (from triton==2.0.0->torch->efficientnet-pytorch==0.7.1->segmentation-models-pytorch) (17.0.6)\n",
      "Requirement already satisfied: fsspec>=2023.5.0 in /public/sist/home/hongmt2022/k-bv/lib/python3.10/site-packages (from huggingface-hub->timm==0.9.2->segmentation-models-pytorch) (2023.12.1)\n",
      "Requirement already satisfied: packaging>=20.9 in /public/sist/home/hongmt2022/k-bv/lib/python3.10/site-packages (from huggingface-hub->timm==0.9.2->segmentation-models-pytorch) (23.2)\n",
      "Requirement already satisfied: charset-normalizer<4,>=2 in /public/sist/home/hongmt2022/k-bv/lib/python3.10/site-packages (from requests->torchvision>=0.5.0->segmentation-models-pytorch) (3.3.2)\n",
      "Requirement already satisfied: idna<4,>=2.5 in /public/sist/home/hongmt2022/k-bv/lib/python3.10/site-packages (from requests->torchvision>=0.5.0->segmentation-models-pytorch) (3.6)\n",
      "Requirement already satisfied: urllib3<3,>=1.21.1 in /public/sist/home/hongmt2022/k-bv/lib/python3.10/site-packages (from requests->torchvision>=0.5.0->segmentation-models-pytorch) (2.1.0)\n",
      "Requirement already satisfied: certifi>=2017.4.17 in /public/sist/home/hongmt2022/k-bv/lib/python3.10/site-packages (from requests->torchvision>=0.5.0->segmentation-models-pytorch) (2023.11.17)\n",
      "Requirement already satisfied: MarkupSafe>=2.0 in /public/sist/home/hongmt2022/k-bv/lib/python3.10/site-packages (from jinja2->torch->efficientnet-pytorch==0.7.1->segmentation-models-pytorch) (2.1.3)\n",
      "Requirement already satisfied: mpmath>=0.19 in /public/sist/home/hongmt2022/k-bv/lib/python3.10/site-packages (from sympy->torch->efficientnet-pytorch==0.7.1->segmentation-models-pytorch) (1.3.0)\n"
     ]
    },
    {
     "name": "stderr",
     "output_type": "stream",
     "text": [
      "/public/sist/home/hongmt2022/k-bv/lib/python3.10/site-packages/tqdm/auto.py:21: TqdmWarning: IProgress not found. Please update jupyter and ipywidgets. See https://ipywidgets.readthedocs.io/en/stable/user_install.html\n",
      "  from .autonotebook import tqdm as notebook_tqdm\n"
     ]
    }
   ],
   "source": [
    "import os,sys,cv2\n",
    "from torch.cuda.amp import autocast\n",
    "import matplotlib.pyplot as plt\n",
    "import albumentations as A\n",
    "!python -m pip install --no-index --find-links=/kaggle/input/pip-download-for-segmentation-models-pytorch segmentation-models-pytorch\n",
    "import segmentation_models_pytorch as smp\n",
    "from albumentations.pytorch import ToTensorV2\n",
    "from torch.utils.data import Dataset, DataLoader\n",
    "from torch.nn.parallel import DataParallel\n",
    "from glob import glob"
   ]
  },
  {
   "cell_type": "code",
   "execution_count": 7,
   "id": "27d76245",
   "metadata": {
    "execution": {
     "iopub.execute_input": "2023-12-09T07:01:37.059342Z",
     "iopub.status.busy": "2023-12-09T07:01:37.059072Z",
     "iopub.status.idle": "2023-12-09T07:01:37.067875Z",
     "shell.execute_reply": "2023-12-09T07:01:37.067086Z"
    },
    "papermill": {
     "duration": 0.017821,
     "end_time": "2023-12-09T07:01:37.069728",
     "exception": false,
     "start_time": "2023-12-09T07:01:37.051907",
     "status": "completed"
    },
    "tags": []
   },
   "outputs": [],
   "source": [
    "class CFG:\n",
    "    # ============== pred target =============\n",
    "    target_size = 1\n",
    "\n",
    "    # ============== model CFG =============\n",
    "    model_name = 'Unet'\n",
    "    backbone = 'se_resnet50'\n",
    "\n",
    "    in_chans = 5 # 65\n",
    "    # ============== training CFG =============\n",
    "    image_size = 256\n",
    "    input_size=256\n",
    "    drop_egde_pixel = 0\n",
    "    tile_size = image_size\n",
    "    stride = tile_size // 2\n",
    "    assert stride>drop_egde_pixel\n",
    "\n",
    "    train_batch_size = 16 # 32\n",
    "    valid_batch_size = train_batch_size * 2\n",
    "\n",
    "    epochs = 10\n",
    "    lr = 6e-5\n",
    "\n",
    "    # ============== fold =============\n",
    "    valid_id = 1\n",
    "\n",
    "\n",
    "    # ============== augmentation =============\n",
    "    train_aug_list = [\n",
    "        A.RandomResizedCrop(\n",
    "            input_size, input_size, scale=(0.8,1.25)),\n",
    "        A.ShiftScaleRotate(p=0.75),\n",
    "        A.OneOf([\n",
    "                A.GaussNoise(var_limit=[10, 50]),\n",
    "                A.GaussianBlur(),\n",
    "                A.MotionBlur(),\n",
    "                ], p=0.4),\n",
    "        A.GridDistortion(num_steps=5, distort_limit=0.3, p=0.5),\n",
    "        # A.RandomBrightness(limit=0.2, p=0.5), \n",
    "        ToTensorV2(transpose_mask=True),\n",
    "    ]\n",
    "    train_aug = A.Compose(train_aug_list)\n",
    "    valid_aug_list = [\n",
    "        ToTensorV2(transpose_mask=True),\n",
    "    ]\n",
    "    valid_aug = A.Compose(valid_aug_list)"
   ]
  },
  {
   "cell_type": "markdown",
   "id": "f45d14d2",
   "metadata": {
    "papermill": {
     "duration": 0.00607,
     "end_time": "2023-12-09T07:01:37.081842",
     "exception": false,
     "start_time": "2023-12-09T07:01:37.075772",
     "status": "completed"
    },
    "tags": []
   },
   "source": [
    "# Model"
   ]
  },
  {
   "cell_type": "code",
   "execution_count": 8,
   "id": "a17347e0",
   "metadata": {
    "execution": {
     "iopub.execute_input": "2023-12-09T07:01:37.095558Z",
     "iopub.status.busy": "2023-12-09T07:01:37.094920Z",
     "iopub.status.idle": "2023-12-09T07:01:37.101662Z",
     "shell.execute_reply": "2023-12-09T07:01:37.100834Z"
    },
    "papermill": {
     "duration": 0.015369,
     "end_time": "2023-12-09T07:01:37.103502",
     "exception": false,
     "start_time": "2023-12-09T07:01:37.088133",
     "status": "completed"
    },
    "tags": []
   },
   "outputs": [],
   "source": [
    "class CustomModel(nn.Module):\n",
    "    def __init__(self, CFG, weight=None):\n",
    "        super().__init__()\n",
    "        self.CFG = CFG\n",
    "        self.encoder = smp.Unet(\n",
    "            encoder_name=CFG.backbone, \n",
    "            encoder_weights=weight,\n",
    "            in_channels=CFG.in_chans,\n",
    "            classes=CFG.target_size,\n",
    "            activation=None,\n",
    "        )\n",
    "\n",
    "    def forward(self, image):\n",
    "        output = self.encoder(image)\n",
    "        # output = output.squeeze(-1)\n",
    "        return output[:,0]#.sigmoid()\n",
    "\n",
    "\n",
    "def build_model(weight=\"imagenet\"):\n",
    "    from dotenv import load_dotenv\n",
    "    load_dotenv()\n",
    "\n",
    "    print('model_name', CFG.model_name)\n",
    "    print('backbone', CFG.backbone)\n",
    "\n",
    "    model = CustomModel(CFG, weight)\n",
    "\n",
    "    return model.cuda()"
   ]
  },
  {
   "cell_type": "markdown",
   "id": "969a459d",
   "metadata": {
    "papermill": {
     "duration": 0.005833,
     "end_time": "2023-12-09T07:01:37.115309",
     "exception": false,
     "start_time": "2023-12-09T07:01:37.109476",
     "status": "completed"
    },
    "tags": []
   },
   "source": [
    "# Functions"
   ]
  },
  {
   "cell_type": "code",
   "execution_count": 9,
   "id": "de0dbf16",
   "metadata": {
    "execution": {
     "iopub.execute_input": "2023-12-09T07:01:37.128397Z",
     "iopub.status.busy": "2023-12-09T07:01:37.128149Z",
     "iopub.status.idle": "2023-12-09T07:01:37.148557Z",
     "shell.execute_reply": "2023-12-09T07:01:37.147752Z"
    },
    "papermill": {
     "duration": 0.029106,
     "end_time": "2023-12-09T07:01:37.150377",
     "exception": false,
     "start_time": "2023-12-09T07:01:37.121271",
     "status": "completed"
    },
    "tags": []
   },
   "outputs": [],
   "source": [
    "def min_max_normalization(x:tc.Tensor)->tc.Tensor:\n",
    "    \"\"\"input.shape=(batch,f1,...)\"\"\"\n",
    "    shape=x.shape\n",
    "    if x.ndim>2:\n",
    "        x=x.reshape(x.shape[0],-1)\n",
    "    \n",
    "    min_=x.min(dim=-1,keepdim=True)[0]\n",
    "    max_=x.max(dim=-1,keepdim=True)[0]\n",
    "    if min_.mean()==0 and max_.mean()==1:\n",
    "        return x.reshape(shape)\n",
    "    \n",
    "    x=(x-min_)/(max_-min_+1e-9)\n",
    "    return x.reshape(shape)\n",
    "\n",
    "class Data_loader(Dataset):\n",
    "    def __init__(self,path,s=\"/images/\"):\n",
    "        self.paths=glob(path+f\"{s}*.tif\")\n",
    "        self.paths.sort()\n",
    "        self.bool=s==\"/labels/\"\n",
    "    \n",
    "    def __len__(self):\n",
    "        return len(self.paths)\n",
    "    \n",
    "    def __getitem__(self,index):\n",
    "        img=cv2.imread(self.paths[index],cv2.IMREAD_GRAYSCALE)\n",
    "        img=tc.from_numpy(img)\n",
    "        if self.bool:\n",
    "            img=img.to(tc.bool)\n",
    "        else:\n",
    "            img=img.to(tc.uint8)\n",
    "        return img\n",
    "\n",
    "def load_data(path,s):\n",
    "    data_loader=Data_loader(path,s)\n",
    "    data_loader=DataLoader(data_loader, batch_size=16, num_workers=2)\n",
    "    data=[]\n",
    "    for x in tqdm(data_loader):\n",
    "        data.append(x)\n",
    "    return tc.cat(data,dim=0)\n",
    "\n",
    "def surface_dice(pred:tc.Tensor,target:tc.Tensor):\n",
    "    if tc.any(pred<0) or tc.any(pred>1):\n",
    "        pred=pred.sigmoid()\n",
    "    pred=pred.reshape(-1)>0.5\n",
    "    target=target.reshape(-1)\n",
    "    intersection=tc.sum(pred*target)\n",
    "    union=tc.sum(pred+target)\n",
    "    return (2*intersection/union).cpu().item()\n",
    "    \n",
    "class Kaggld_Dataset(Dataset):\n",
    "    def __init__(self,x:list,y:list,arg=False):\n",
    "        super(Dataset,self).__init__()\n",
    "        self.x=x#list[(C,H,W),...]\n",
    "        self.y=y#list[(C,H,W),...]\n",
    "        self.image_size=CFG.image_size\n",
    "        self.in_chans=CFG.in_chans\n",
    "        self.arg=arg\n",
    "        if arg:\n",
    "            self.transform=CFG.train_aug\n",
    "        else: \n",
    "            self.transform=CFG.valid_aug\n",
    "\n",
    "    def __len__(self) -> int:\n",
    "        return sum([y.shape[0]-self.in_chans for y in self.y])\n",
    "    \n",
    "    def __getitem__(self,index):\n",
    "        i=0\n",
    "        for x in self.x:\n",
    "            if index>x.shape[0]-self.in_chans:\n",
    "                index-=x.shape[0]-self.in_chans\n",
    "                i+=1\n",
    "            else:\n",
    "                break\n",
    "        x=self.x[i]\n",
    "        y=self.y[i]\n",
    "        \n",
    "        x_index=np.random.randint(0,x.shape[1]-self.image_size)\n",
    "        y_index=np.random.randint(0,x.shape[2]-self.image_size)\n",
    "\n",
    "        x=x[index:index+self.in_chans,x_index:x_index+self.image_size,y_index:y_index+self.image_size].to(tc.float32)\n",
    "        y=y[index+self.in_chans//2,x_index:x_index+self.image_size,y_index:y_index+self.image_size].to(tc.float32)\n",
    "\n",
    "        data = self.transform(image=x.numpy().transpose(1,2,0), mask=y.numpy())\n",
    "        x = data['image']\n",
    "        y = data['mask']\n",
    "        if self.arg:\n",
    "            i=np.random.randint(4)\n",
    "            x=x.rot90(i,dims=(1,2))\n",
    "            y=y.rot90(i,dims=(0,1))\n",
    "            for i in range(3):\n",
    "                if np.random.randint(2):\n",
    "                    x=x.flip(dims=(i,))\n",
    "                    if i>=1:\n",
    "                        y=y.flip(dims=(i-1,))\n",
    "        return x,y\n"
   ]
  },
  {
   "cell_type": "markdown",
   "id": "064ab5de",
   "metadata": {
    "papermill": {
     "duration": 0.00582,
     "end_time": "2023-12-09T07:01:37.162172",
     "exception": false,
     "start_time": "2023-12-09T07:01:37.156352",
     "status": "completed"
    },
    "tags": []
   },
   "source": [
    "# Load data "
   ]
  },
  {
   "cell_type": "code",
   "execution_count": 13,
   "id": "ab8d520f",
   "metadata": {},
   "outputs": [
    {
     "data": {
      "text/plain": [
       "['./kaggle/input/blood-vessel-segmentation/train/kidney_1_dense',\n",
       " './kaggle/input/blood-vessel-segmentation/train/kidney_1_voi',\n",
       " './kaggle/input/blood-vessel-segmentation/train/kidney_2',\n",
       " './kaggle/input/blood-vessel-segmentation/train/kidney_3_dense',\n",
       " './kaggle/input/blood-vessel-segmentation/train/kidney_3_sparse']"
      ]
     },
     "execution_count": 13,
     "metadata": {},
     "output_type": "execute_result"
    }
   ],
   "source": [
    "paths"
   ]
  },
  {
   "cell_type": "code",
   "execution_count": 14,
   "id": "71143fd6",
   "metadata": {
    "execution": {
     "iopub.execute_input": "2023-12-09T07:01:37.175579Z",
     "iopub.status.busy": "2023-12-09T07:01:37.175107Z",
     "iopub.status.idle": "2023-12-09T07:06:07.534028Z",
     "shell.execute_reply": "2023-12-09T07:06:07.532993Z"
    },
    "papermill": {
     "duration": 270.368165,
     "end_time": "2023-12-09T07:06:07.536430",
     "exception": false,
     "start_time": "2023-12-09T07:01:37.168265",
     "status": "completed"
    },
    "tags": []
   },
   "outputs": [
    {
     "name": "stderr",
     "output_type": "stream",
     "text": [
      "100%|██████████| 139/139 [01:11<00:00,  1.93it/s]\n"
     ]
    },
    {
     "name": "stdout",
     "output_type": "stream",
     "text": [
      "torch.Size([2217, 1041, 1511])\n"
     ]
    },
    {
     "name": "stderr",
     "output_type": "stream",
     "text": [
      "100%|██████████| 139/139 [00:59<00:00,  2.33it/s]\n",
      "100%|██████████| 65/65 [00:39<00:00,  1.63it/s]\n"
     ]
    },
    {
     "name": "stdout",
     "output_type": "stream",
     "text": [
      "torch.Size([1035, 1706, 1510])\n"
     ]
    },
    {
     "name": "stderr",
     "output_type": "stream",
     "text": [
      "100%|██████████| 65/65 [00:34<00:00,  1.91it/s]\n",
      "  0%|          | 0/143 [00:00<?, ?it/s]\n"
     ]
    },
    {
     "ename": "OSError",
     "evalue": "[Errno 12] Cannot allocate memory",
     "output_type": "error",
     "traceback": [
      "\u001b[0;31m---------------------------------------------------------------------------\u001b[0m",
      "\u001b[0;31mOSError\u001b[0m                                   Traceback (most recent call last)",
      "Cell \u001b[0;32mIn[14], line 24\u001b[0m\n\u001b[1;32m     21\u001b[0m     train_x\u001b[38;5;241m.\u001b[39mappend(x\u001b[38;5;241m.\u001b[39mpermute(\u001b[38;5;241m2\u001b[39m,\u001b[38;5;241m0\u001b[39m,\u001b[38;5;241m1\u001b[39m))\n\u001b[1;32m     22\u001b[0m     train_y\u001b[38;5;241m.\u001b[39mappend(y\u001b[38;5;241m.\u001b[39mpermute(\u001b[38;5;241m2\u001b[39m,\u001b[38;5;241m0\u001b[39m,\u001b[38;5;241m1\u001b[39m))\n\u001b[0;32m---> 24\u001b[0m val_x\u001b[38;5;241m=\u001b[39m\u001b[43mload_data\u001b[49m\u001b[43m(\u001b[49m\u001b[43mpaths\u001b[49m\u001b[43m[\u001b[49m\u001b[38;5;241;43m0\u001b[39;49m\u001b[43m]\u001b[49m\u001b[43m,\u001b[49m\u001b[38;5;124;43m\"\u001b[39;49m\u001b[38;5;124;43m/images/\u001b[39;49m\u001b[38;5;124;43m\"\u001b[39;49m\u001b[43m)\u001b[49m\n\u001b[1;32m     25\u001b[0m val_y\u001b[38;5;241m=\u001b[39mload_data(paths[\u001b[38;5;241m0\u001b[39m],\u001b[38;5;124m\"\u001b[39m\u001b[38;5;124m/labels/\u001b[39m\u001b[38;5;124m\"\u001b[39m)\n",
      "Cell \u001b[0;32mIn[9], line 37\u001b[0m, in \u001b[0;36mload_data\u001b[0;34m(path, s)\u001b[0m\n\u001b[1;32m     35\u001b[0m data_loader\u001b[38;5;241m=\u001b[39mDataLoader(data_loader, batch_size\u001b[38;5;241m=\u001b[39m\u001b[38;5;241m16\u001b[39m, num_workers\u001b[38;5;241m=\u001b[39m\u001b[38;5;241m2\u001b[39m)\n\u001b[1;32m     36\u001b[0m data\u001b[38;5;241m=\u001b[39m[]\n\u001b[0;32m---> 37\u001b[0m \u001b[38;5;28;01mfor\u001b[39;00m x \u001b[38;5;129;01min\u001b[39;00m tqdm(data_loader):\n\u001b[1;32m     38\u001b[0m     data\u001b[38;5;241m.\u001b[39mappend(x)\n\u001b[1;32m     39\u001b[0m \u001b[38;5;28;01mreturn\u001b[39;00m tc\u001b[38;5;241m.\u001b[39mcat(data,dim\u001b[38;5;241m=\u001b[39m\u001b[38;5;241m0\u001b[39m)\n",
      "File \u001b[0;32m~/k-bv/lib/python3.10/site-packages/tqdm/std.py:1182\u001b[0m, in \u001b[0;36mtqdm.__iter__\u001b[0;34m(self)\u001b[0m\n\u001b[1;32m   1179\u001b[0m time \u001b[38;5;241m=\u001b[39m \u001b[38;5;28mself\u001b[39m\u001b[38;5;241m.\u001b[39m_time\n\u001b[1;32m   1181\u001b[0m \u001b[38;5;28;01mtry\u001b[39;00m:\n\u001b[0;32m-> 1182\u001b[0m     \u001b[38;5;28;01mfor\u001b[39;00m obj \u001b[38;5;129;01min\u001b[39;00m iterable:\n\u001b[1;32m   1183\u001b[0m         \u001b[38;5;28;01myield\u001b[39;00m obj\n\u001b[1;32m   1184\u001b[0m         \u001b[38;5;66;03m# Update and possibly print the progressbar.\u001b[39;00m\n\u001b[1;32m   1185\u001b[0m         \u001b[38;5;66;03m# Note: does not call self.update(1) for speed optimisation.\u001b[39;00m\n",
      "File \u001b[0;32m~/k-bv/lib/python3.10/site-packages/torch/utils/data/dataloader.py:441\u001b[0m, in \u001b[0;36mDataLoader.__iter__\u001b[0;34m(self)\u001b[0m\n\u001b[1;32m    439\u001b[0m     \u001b[38;5;28;01mreturn\u001b[39;00m \u001b[38;5;28mself\u001b[39m\u001b[38;5;241m.\u001b[39m_iterator\n\u001b[1;32m    440\u001b[0m \u001b[38;5;28;01melse\u001b[39;00m:\n\u001b[0;32m--> 441\u001b[0m     \u001b[38;5;28;01mreturn\u001b[39;00m \u001b[38;5;28;43mself\u001b[39;49m\u001b[38;5;241;43m.\u001b[39;49m\u001b[43m_get_iterator\u001b[49m\u001b[43m(\u001b[49m\u001b[43m)\u001b[49m\n",
      "File \u001b[0;32m~/k-bv/lib/python3.10/site-packages/torch/utils/data/dataloader.py:388\u001b[0m, in \u001b[0;36mDataLoader._get_iterator\u001b[0;34m(self)\u001b[0m\n\u001b[1;32m    386\u001b[0m \u001b[38;5;28;01melse\u001b[39;00m:\n\u001b[1;32m    387\u001b[0m     \u001b[38;5;28mself\u001b[39m\u001b[38;5;241m.\u001b[39mcheck_worker_number_rationality()\n\u001b[0;32m--> 388\u001b[0m     \u001b[38;5;28;01mreturn\u001b[39;00m \u001b[43m_MultiProcessingDataLoaderIter\u001b[49m\u001b[43m(\u001b[49m\u001b[38;5;28;43mself\u001b[39;49m\u001b[43m)\u001b[49m\n",
      "File \u001b[0;32m~/k-bv/lib/python3.10/site-packages/torch/utils/data/dataloader.py:1042\u001b[0m, in \u001b[0;36m_MultiProcessingDataLoaderIter.__init__\u001b[0;34m(self, loader)\u001b[0m\n\u001b[1;32m   1035\u001b[0m w\u001b[38;5;241m.\u001b[39mdaemon \u001b[38;5;241m=\u001b[39m \u001b[38;5;28;01mTrue\u001b[39;00m\n\u001b[1;32m   1036\u001b[0m \u001b[38;5;66;03m# NB: Process.start() actually take some time as it needs to\u001b[39;00m\n\u001b[1;32m   1037\u001b[0m \u001b[38;5;66;03m#     start a process and pass the arguments over via a pipe.\u001b[39;00m\n\u001b[1;32m   1038\u001b[0m \u001b[38;5;66;03m#     Therefore, we only add a worker to self._workers list after\u001b[39;00m\n\u001b[1;32m   1039\u001b[0m \u001b[38;5;66;03m#     it started, so that we do not call .join() if program dies\u001b[39;00m\n\u001b[1;32m   1040\u001b[0m \u001b[38;5;66;03m#     before it starts, and __del__ tries to join but will get:\u001b[39;00m\n\u001b[1;32m   1041\u001b[0m \u001b[38;5;66;03m#     AssertionError: can only join a started process.\u001b[39;00m\n\u001b[0;32m-> 1042\u001b[0m \u001b[43mw\u001b[49m\u001b[38;5;241;43m.\u001b[39;49m\u001b[43mstart\u001b[49m\u001b[43m(\u001b[49m\u001b[43m)\u001b[49m\n\u001b[1;32m   1043\u001b[0m \u001b[38;5;28mself\u001b[39m\u001b[38;5;241m.\u001b[39m_index_queues\u001b[38;5;241m.\u001b[39mappend(index_queue)\n\u001b[1;32m   1044\u001b[0m \u001b[38;5;28mself\u001b[39m\u001b[38;5;241m.\u001b[39m_workers\u001b[38;5;241m.\u001b[39mappend(w)\n",
      "File \u001b[0;32m~/k-bv/lib/python3.10/multiprocessing/process.py:121\u001b[0m, in \u001b[0;36mBaseProcess.start\u001b[0;34m(self)\u001b[0m\n\u001b[1;32m    118\u001b[0m \u001b[38;5;28;01massert\u001b[39;00m \u001b[38;5;129;01mnot\u001b[39;00m _current_process\u001b[38;5;241m.\u001b[39m_config\u001b[38;5;241m.\u001b[39mget(\u001b[38;5;124m'\u001b[39m\u001b[38;5;124mdaemon\u001b[39m\u001b[38;5;124m'\u001b[39m), \\\n\u001b[1;32m    119\u001b[0m        \u001b[38;5;124m'\u001b[39m\u001b[38;5;124mdaemonic processes are not allowed to have children\u001b[39m\u001b[38;5;124m'\u001b[39m\n\u001b[1;32m    120\u001b[0m _cleanup()\n\u001b[0;32m--> 121\u001b[0m \u001b[38;5;28mself\u001b[39m\u001b[38;5;241m.\u001b[39m_popen \u001b[38;5;241m=\u001b[39m \u001b[38;5;28;43mself\u001b[39;49m\u001b[38;5;241;43m.\u001b[39;49m\u001b[43m_Popen\u001b[49m\u001b[43m(\u001b[49m\u001b[38;5;28;43mself\u001b[39;49m\u001b[43m)\u001b[49m\n\u001b[1;32m    122\u001b[0m \u001b[38;5;28mself\u001b[39m\u001b[38;5;241m.\u001b[39m_sentinel \u001b[38;5;241m=\u001b[39m \u001b[38;5;28mself\u001b[39m\u001b[38;5;241m.\u001b[39m_popen\u001b[38;5;241m.\u001b[39msentinel\n\u001b[1;32m    123\u001b[0m \u001b[38;5;66;03m# Avoid a refcycle if the target function holds an indirect\u001b[39;00m\n\u001b[1;32m    124\u001b[0m \u001b[38;5;66;03m# reference to the process object (see bpo-30775)\u001b[39;00m\n",
      "File \u001b[0;32m~/k-bv/lib/python3.10/multiprocessing/context.py:224\u001b[0m, in \u001b[0;36mProcess._Popen\u001b[0;34m(process_obj)\u001b[0m\n\u001b[1;32m    222\u001b[0m \u001b[38;5;129m@staticmethod\u001b[39m\n\u001b[1;32m    223\u001b[0m \u001b[38;5;28;01mdef\u001b[39;00m \u001b[38;5;21m_Popen\u001b[39m(process_obj):\n\u001b[0;32m--> 224\u001b[0m     \u001b[38;5;28;01mreturn\u001b[39;00m \u001b[43m_default_context\u001b[49m\u001b[38;5;241;43m.\u001b[39;49m\u001b[43mget_context\u001b[49m\u001b[43m(\u001b[49m\u001b[43m)\u001b[49m\u001b[38;5;241;43m.\u001b[39;49m\u001b[43mProcess\u001b[49m\u001b[38;5;241;43m.\u001b[39;49m\u001b[43m_Popen\u001b[49m\u001b[43m(\u001b[49m\u001b[43mprocess_obj\u001b[49m\u001b[43m)\u001b[49m\n",
      "File \u001b[0;32m~/k-bv/lib/python3.10/multiprocessing/context.py:281\u001b[0m, in \u001b[0;36mForkProcess._Popen\u001b[0;34m(process_obj)\u001b[0m\n\u001b[1;32m    278\u001b[0m \u001b[38;5;129m@staticmethod\u001b[39m\n\u001b[1;32m    279\u001b[0m \u001b[38;5;28;01mdef\u001b[39;00m \u001b[38;5;21m_Popen\u001b[39m(process_obj):\n\u001b[1;32m    280\u001b[0m     \u001b[38;5;28;01mfrom\u001b[39;00m \u001b[38;5;21;01m.\u001b[39;00m\u001b[38;5;21;01mpopen_fork\u001b[39;00m \u001b[38;5;28;01mimport\u001b[39;00m Popen\n\u001b[0;32m--> 281\u001b[0m     \u001b[38;5;28;01mreturn\u001b[39;00m \u001b[43mPopen\u001b[49m\u001b[43m(\u001b[49m\u001b[43mprocess_obj\u001b[49m\u001b[43m)\u001b[49m\n",
      "File \u001b[0;32m~/k-bv/lib/python3.10/multiprocessing/popen_fork.py:19\u001b[0m, in \u001b[0;36mPopen.__init__\u001b[0;34m(self, process_obj)\u001b[0m\n\u001b[1;32m     17\u001b[0m \u001b[38;5;28mself\u001b[39m\u001b[38;5;241m.\u001b[39mreturncode \u001b[38;5;241m=\u001b[39m \u001b[38;5;28;01mNone\u001b[39;00m\n\u001b[1;32m     18\u001b[0m \u001b[38;5;28mself\u001b[39m\u001b[38;5;241m.\u001b[39mfinalizer \u001b[38;5;241m=\u001b[39m \u001b[38;5;28;01mNone\u001b[39;00m\n\u001b[0;32m---> 19\u001b[0m \u001b[38;5;28;43mself\u001b[39;49m\u001b[38;5;241;43m.\u001b[39;49m\u001b[43m_launch\u001b[49m\u001b[43m(\u001b[49m\u001b[43mprocess_obj\u001b[49m\u001b[43m)\u001b[49m\n",
      "File \u001b[0;32m~/k-bv/lib/python3.10/multiprocessing/popen_fork.py:66\u001b[0m, in \u001b[0;36mPopen._launch\u001b[0;34m(self, process_obj)\u001b[0m\n\u001b[1;32m     64\u001b[0m parent_r, child_w \u001b[38;5;241m=\u001b[39m os\u001b[38;5;241m.\u001b[39mpipe()\n\u001b[1;32m     65\u001b[0m child_r, parent_w \u001b[38;5;241m=\u001b[39m os\u001b[38;5;241m.\u001b[39mpipe()\n\u001b[0;32m---> 66\u001b[0m \u001b[38;5;28mself\u001b[39m\u001b[38;5;241m.\u001b[39mpid \u001b[38;5;241m=\u001b[39m \u001b[43mos\u001b[49m\u001b[38;5;241;43m.\u001b[39;49m\u001b[43mfork\u001b[49m\u001b[43m(\u001b[49m\u001b[43m)\u001b[49m\n\u001b[1;32m     67\u001b[0m \u001b[38;5;28;01mif\u001b[39;00m \u001b[38;5;28mself\u001b[39m\u001b[38;5;241m.\u001b[39mpid \u001b[38;5;241m==\u001b[39m \u001b[38;5;241m0\u001b[39m:\n\u001b[1;32m     68\u001b[0m     \u001b[38;5;28;01mtry\u001b[39;00m:\n",
      "\u001b[0;31mOSError\u001b[0m: [Errno 12] Cannot allocate memory"
     ]
    },
    {
     "ename": "",
     "evalue": "",
     "output_type": "error",
     "traceback": [
      "\u001b[1;31m在当前单元格或上一个单元格中执行代码时 Kernel 崩溃。请查看单元格中的代码，以确定故障的可能原因。有关详细信息，请单击 <a href='https://aka.ms/vscodeJupyterKernelCrash'>此处</a>。有关更多详细信息，请查看 Jupyter <a href='command:jupyter.viewOutput'>log</a>。"
     ]
    }
   ],
   "source": [
    "train_x=[]\n",
    "train_y=[]\n",
    "\n",
    "root_path=\"./kaggle/input/blood-vessel-segmentation/\"\n",
    "paths=glob(root_path+\"train/*\")\n",
    "paths.sort()\n",
    "for i,path in enumerate(paths[0]):#Because the memory is not enough, so I don't use some data.\n",
    "    if path==\"./kaggle/input/blood-vessel-segmentation/train/kidney_3_dense\" or path == './kaggle/input/blood-vessel-segmentation/train/kidney_1_voi':\n",
    "        continue\n",
    "    x=load_data(path,\"/images/\")\n",
    "    print(x.shape)\n",
    "    y=load_data(path,\"/labels/\")\n",
    "    train_x.append(x)\n",
    "    train_y.append(y)\n",
    "\n",
    "    #(C,H,W)\n",
    "\n",
    "    #aug\n",
    "    train_x.append(x.permute(1,2,0))\n",
    "    train_y.append(y.permute(1,2,0))\n",
    "    train_x.append(x.permute(2,0,1))\n",
    "    train_y.append(y.permute(2,0,1))\n",
    "\n",
    "val_x=load_data(paths[0],\"/images/\")\n",
    "val_y=load_data(paths[0],\"/labels/\")\n"
   ]
  },
  {
   "cell_type": "markdown",
   "id": "a44a14c5",
   "metadata": {
    "papermill": {
     "duration": 0.041624,
     "end_time": "2023-12-09T07:06:07.620283",
     "exception": false,
     "start_time": "2023-12-09T07:06:07.578659",
     "status": "completed"
    },
    "tags": []
   },
   "source": [
    "# Training"
   ]
  },
  {
   "cell_type": "code",
   "execution_count": 6,
   "id": "733f2f94",
   "metadata": {
    "execution": {
     "iopub.execute_input": "2023-12-09T07:06:07.749834Z",
     "iopub.status.busy": "2023-12-09T07:06:07.749413Z",
     "iopub.status.idle": "2023-12-09T07:26:27.194361Z",
     "shell.execute_reply": "2023-12-09T07:26:27.193121Z"
    },
    "papermill": {
     "duration": 1219.535259,
     "end_time": "2023-12-09T07:26:27.196860",
     "exception": false,
     "start_time": "2023-12-09T07:06:07.661601",
     "status": "completed"
    },
    "tags": []
   },
   "outputs": [
    {
     "name": "stdout",
     "output_type": "stream",
     "text": [
      "model_name Unet\n",
      "backbone se_resnet50\n"
     ]
    },
    {
     "name": "stderr",
     "output_type": "stream",
     "text": [
      "epoch:0,loss:0.6746,score:0.0873,lr5.8871e-05: 100%|██████████| 562/562 [02:01<00:00,  4.64it/s]\n",
      "val-->loss:0.3800,score:0.1472: 100%|██████████| 143/143 [00:12<00:00, 11.16it/s]\n",
      "epoch:1,loss:0.2335,score:0.2902,lr5.8780e-05: 100%|██████████| 562/562 [01:47<00:00,  5.23it/s]\n",
      "val-->loss:0.1523,score:0.2296: 100%|██████████| 143/143 [00:12<00:00, 11.43it/s]\n",
      "epoch:2,loss:0.1033,score:0.4412,lr5.4701e-05: 100%|██████████| 562/562 [01:47<00:00,  5.23it/s]\n",
      "val-->loss:0.0835,score:0.3144: 100%|██████████| 143/143 [00:12<00:00, 11.42it/s]\n",
      "epoch:3,loss:0.0588,score:0.6063,lr4.8155e-05: 100%|██████████| 562/562 [01:46<00:00,  5.26it/s]\n",
      "val-->loss:0.0563,score:0.3957: 100%|██████████| 143/143 [00:12<00:00, 11.10it/s]\n",
      "epoch:4,loss:0.0391,score:0.6397,lr3.9796e-05: 100%|██████████| 562/562 [01:46<00:00,  5.26it/s]\n",
      "val-->loss:0.0411,score:0.5343: 100%|██████████| 143/143 [00:12<00:00, 11.32it/s]\n",
      "epoch:5,loss:0.0291,score:0.6858,lr3.0459e-05: 100%|██████████| 562/562 [01:47<00:00,  5.24it/s]\n",
      "val-->loss:0.0345,score:0.5297: 100%|██████████| 143/143 [00:12<00:00, 11.38it/s]\n",
      "epoch:6,loss:0.0233,score:0.7040,lr2.1076e-05: 100%|██████████| 562/562 [01:47<00:00,  5.23it/s]\n",
      "val-->loss:0.0291,score:nan: 100%|██████████| 143/143 [00:12<00:00, 11.17it/s]\n",
      "epoch:7,loss:0.0203,score:0.7226,lr1.2585e-05: 100%|██████████| 562/562 [01:46<00:00,  5.28it/s]\n",
      "val-->loss:0.0269,score:0.5963: 100%|██████████| 143/143 [00:12<00:00, 11.03it/s]\n",
      "epoch:8,loss:0.0182,score:0.7429,lr5.8321e-06: 100%|██████████| 562/562 [01:46<00:00,  5.27it/s]\n",
      "val-->loss:0.0265,score:0.5899: 100%|██████████| 143/143 [00:12<00:00, 11.33it/s]\n",
      "epoch:9,loss:0.0173,score:0.7415,lr1.4928e-06: 100%|██████████| 562/562 [01:46<00:00,  5.26it/s]\n",
      "val-->loss:0.0249,score:0.6054: 100%|██████████| 143/143 [00:12<00:00, 11.44it/s]\n"
     ]
    }
   ],
   "source": [
    "train_dataset=Kaggld_Dataset(train_x,train_y,arg=True)\n",
    "train_dataset = DataLoader(train_dataset, batch_size=16, num_workers=2, shuffle=True, pin_memory=True)\n",
    "val_dataset=Kaggld_Dataset([val_x],[val_y])\n",
    "val_dataset = DataLoader(val_dataset, batch_size=16, num_workers=2, shuffle=False, pin_memory=True)\n",
    "\n",
    "model=build_model()\n",
    "model=DataParallel(model)\n",
    "\n",
    "loss_fn=nn.BCEWithLogitsLoss()\n",
    "optimizer=tc.optim.AdamW(model.parameters(),lr=CFG.lr)\n",
    "scaler=tc.cuda.amp.GradScaler()\n",
    "scheduler = tc.optim.lr_scheduler.OneCycleLR(optimizer, max_lr=CFG.lr,\n",
    "                                                steps_per_epoch=len(train_dataset), epochs=CFG.epochs+1,\n",
    "                                                pct_start=0.1,)\n",
    "for epoch in range(CFG.epochs):\n",
    "    time=tqdm(range(len(train_dataset)))\n",
    "    losss=0\n",
    "    scores=0\n",
    "    for i,(x,y) in enumerate(train_dataset):\n",
    "        x=x.cuda()\n",
    "        y=y.cuda()\n",
    "        x=min_max_normalization(x)\n",
    "\n",
    "        with autocast():\n",
    "            pred=model(x)\n",
    "            loss=loss_fn(pred,y)\n",
    "\n",
    "            optimizer.zero_grad()\n",
    "            scaler.scale(loss).backward()\n",
    "            scaler.step(optimizer)\n",
    "            scaler.update()\n",
    "        scheduler.step()\n",
    "        score=surface_dice(pred.detach(),y)\n",
    "        losss=(losss*i+loss.item())/(i+1)\n",
    "        scores=(scores*i+score)/(i+1)\n",
    "        time.set_description(f\"epoch:{epoch},loss:{losss:.4f},score:{scores:.4f},lr{optimizer.param_groups[0]['lr']:.4e}\")\n",
    "        time.update()\n",
    "        del loss,pred\n",
    "    time.close()\n",
    "    val_losss=0\n",
    "    val_scores=0\n",
    "    time=tqdm(range(len(val_dataset)))\n",
    "    for i,(x,y) in enumerate(val_dataset):\n",
    "        x=x.cuda()\n",
    "        y=y.cuda()\n",
    "        x=min_max_normalization(x)\n",
    "\n",
    "        with autocast():\n",
    "            with tc.no_grad():\n",
    "                pred=model(x)\n",
    "                loss=loss_fn(pred,y)\n",
    "        score=surface_dice(pred.detach(),y)\n",
    "        if not isinstance(score,float):\n",
    "            score=0\n",
    "        val_losss=(val_losss*i+loss.item())/(i+1)\n",
    "        val_scores=(val_scores*i+score)/(i+1)\n",
    "        time.set_description(f\"val-->loss:{val_losss:.4f},score:{val_scores:.4f}\")\n",
    "        time.update()\n",
    "\n",
    "    time.close()\n",
    "    tc.save(model.state_dict(),f\"./models/baseline-v1-2023-12-20/{CFG.backbone}_{epoch}_loss{losss:.2f}_score{scores:.2f}_val_loss{val_losss:.2f}_val_score{val_scores:.2f}.pt\")\n",
    "\n",
    "time.close()"
   ]
  }
 ],
 "metadata": {
  "kaggle": {
   "accelerator": "nvidiaTeslaT4",
   "dataSources": [
    {
     "databundleVersionId": 6962461,
     "sourceId": 61446,
     "sourceType": "competition"
    },
    {
     "datasetId": 1074109,
     "sourceId": 1807973,
     "sourceType": "datasetVersion"
    },
    {
     "sourceId": 150248402,
     "sourceType": "kernelVersion"
    }
   ],
   "dockerImageVersionId": 30587,
   "isGpuEnabled": true,
   "isInternetEnabled": true,
   "language": "python",
   "sourceType": "notebook"
  },
  "kernelspec": {
   "display_name": "Python 3",
   "language": "python",
   "name": "python3"
  },
  "language_info": {
   "codemirror_mode": {
    "name": "ipython",
    "version": 3
   },
   "file_extension": ".py",
   "mimetype": "text/x-python",
   "name": "python",
   "nbconvert_exporter": "python",
   "pygments_lexer": "ipython3",
   "version": "3.8.13"
  },
  "papermill": {
   "default_parameters": {},
   "duration": 1549.501882,
   "end_time": "2023-12-09T07:26:32.081363",
   "environment_variables": {},
   "exception": null,
   "input_path": "__notebook__.ipynb",
   "output_path": "__notebook__.ipynb",
   "parameters": {},
   "start_time": "2023-12-09T07:00:42.579481",
   "version": "2.4.0"
  }
 },
 "nbformat": 4,
 "nbformat_minor": 5
}
